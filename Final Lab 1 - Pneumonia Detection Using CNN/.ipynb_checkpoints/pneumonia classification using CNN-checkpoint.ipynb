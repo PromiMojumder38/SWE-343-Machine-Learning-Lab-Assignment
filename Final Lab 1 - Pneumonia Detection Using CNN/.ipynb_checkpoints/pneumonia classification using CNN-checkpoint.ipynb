{
 "cells": [
  {
   "cell_type": "markdown",
   "metadata": {},
   "source": []
  },
  {
   "cell_type": "code",
   "execution_count": null,
   "metadata": {
    "execution": {
     "iopub.execute_input": "2023-08-15T12:39:24.657801Z",
     "iopub.status.busy": "2023-08-15T12:39:24.657478Z",
     "iopub.status.idle": "2023-08-15T12:40:07.304623Z",
     "shell.execute_reply": "2023-08-15T12:40:07.303541Z",
     "shell.execute_reply.started": "2023-08-15T12:39:24.657772Z"
    }
   },
   "outputs": [],
   "source": [
    "import numpy as np\n",
    "import tensorflow as tf\n",
    "from tensorflow import keras\n",
    "import matplotlib.pyplot as plt\n",
    "import seaborn as sns\n",
    "sns.set(style= \"darkgrid\", color_codes = True)\n",
    "from tensorflow.keras.applications import VGG16\n",
    "from tensorflow.keras.models import Sequential\n",
    "from tensorflow.keras.layers import Conv2D, MaxPooling2D, Dense, Flatten, Dropout, Input\n",
    "from keras.regularizers import l2\n",
    "from tensorflow.keras.metrics import Precision, Recall, BinaryAccuracy\n",
    "from sklearn.metrics import roc_curve, auc\n",
    "from tensorflow.keras.preprocessing.image import  load_img\n",
    "import warnings\n",
    "warnings.filterwarnings('ignore')"
   ]
  },
  {
   "cell_type": "code",
   "execution_count": null,
   "metadata": {
    "execution": {
     "iopub.execute_input": "2023-08-15T12:40:07.306284Z",
     "iopub.status.busy": "2023-08-15T12:40:07.30581Z",
     "iopub.status.idle": "2023-08-15T12:40:15.449914Z",
     "shell.execute_reply": "2023-08-15T12:40:15.448815Z",
     "shell.execute_reply.started": "2023-08-15T12:40:07.306258Z"
    }
   },
   "outputs": [],
   "source": [
    "# Define image size and other parameters\n",
    "img_width, img_height = 256, 256\n",
    "batchsize = 32\n",
    "epochs = 10\n",
    "num_of_class = 2\n",
    "\n",
    "train = keras. utils.image_dataset_from_directory(\n",
    "    directory='/kaggle/input/chest-xray-pneumonia/chest_xray/train',\n",
    "    labels='inferred',\n",
    "    label_mode='categorical',\n",
    "    batch_size=batchsize,\n",
    "    image_size=(img_width, img_height))\n",
    "\n",
    "validation = keras. utils.image_dataset_from_directory(\n",
    "    directory='/kaggle/input/chest-xray-pneumonia/chest_xray/val',\n",
    "    labels='inferred',\n",
    "    label_mode='categorical',\n",
    "    batch_size=batchsize,\n",
    "    image_size=(img_width, img_height))\n",
    "\n",
    "test = keras. utils.image_dataset_from_directory(\n",
    "    directory='/kaggle/input/chest-xray-pneumonia/chest_xray/test',\n",
    "    labels='inferred',\n",
    "    label_mode='categorical',\n",
    "    batch_size=batchsize,\n",
    "    image_size=(img_width, img_height))\n"
   ]
  },
  {
   "cell_type": "code",
   "execution_count": null,
   "metadata": {
    "execution": {
     "iopub.execute_input": "2023-08-15T12:40:15.452389Z",
     "iopub.status.busy": "2023-08-15T12:40:15.452065Z",
     "iopub.status.idle": "2023-08-15T12:40:15.663398Z",
     "shell.execute_reply": "2023-08-15T12:40:15.661108Z",
     "shell.execute_reply.started": "2023-08-15T12:40:15.452325Z"
    }
   },
   "outputs": [],
   "source": [
    "plt.pie([len(train), len(validation), len(test)],\n",
    "        labels=['train', 'validation', 'test'], autopct='%.1f%%', colors=['orange', 'red', 'lightblue'], explode=(0.05, 0, 0))\n",
    "plt.show()"
   ]
  },
  {
   "cell_type": "code",
   "execution_count": null,
   "metadata": {
    "editable": false,
    "execution": {
     "iopub.execute_input": "2023-08-15T12:40:15.667317Z",
     "iopub.status.busy": "2023-08-15T12:40:15.666085Z",
     "iopub.status.idle": "2023-08-15T12:40:15.677451Z",
     "shell.execute_reply": "2023-08-15T12:40:15.67544Z",
     "shell.execute_reply.started": "2023-08-15T12:40:15.66725Z"
    }
   },
   "outputs": [],
   "source": [
    "print(train.class_names)\n",
    "print(validation.class_names)\n",
    "print(test.class_names)"
   ]
  },
  {
   "cell_type": "code",
   "execution_count": null,
   "metadata": {
    "editable": false,
    "execution": {
     "iopub.execute_input": "2023-08-15T12:40:15.680691Z",
     "iopub.status.busy": "2023-08-15T12:40:15.680031Z",
     "iopub.status.idle": "2023-08-15T12:40:17.53203Z",
     "shell.execute_reply": "2023-08-15T12:40:17.530928Z",
     "shell.execute_reply.started": "2023-08-15T12:40:15.680629Z"
    }
   },
   "outputs": [],
   "source": [
    "data_iterator = train.as_numpy_iterator()\n",
    "batch = data_iterator.next()\n",
    "fig, ax = plt.subplots(ncols=4, figsize=(20,20))\n",
    "for idx, img in enumerate(batch[0][:4]):\n",
    "    ax[idx].imshow(img.astype(int))\n",
    "    ax[idx].title.set_text(batch[1][idx])"
   ]
  },
  {
   "cell_type": "code",
   "execution_count": null,
   "metadata": {
    "execution": {
     "iopub.execute_input": "2023-08-15T12:40:17.533634Z",
     "iopub.status.busy": "2023-08-15T12:40:17.533279Z",
     "iopub.status.idle": "2023-08-15T12:40:23.005906Z",
     "shell.execute_reply": "2023-08-15T12:40:23.004427Z",
     "shell.execute_reply.started": "2023-08-15T12:40:17.533605Z"
    }
   },
   "outputs": [],
   "source": [
    "# Extracting Features and Labels\n",
    "x_train = []\n",
    "y_train = []\n",
    "x_val = []\n",
    "y_val = []\n",
    "x_test = []\n",
    "y_test = []\n",
    "\n",
    "for feature, label in train:\n",
    "    x_train.append(feature.numpy())\n",
    "    y_train.append(label.numpy())\n",
    "\n",
    "for feature, label in test:\n",
    "    x_test.append(feature.numpy())\n",
    "    y_test.append(label.numpy())\n",
    "    \n",
    "for feature, label in validation:\n",
    "    x_val.append(feature.numpy())\n",
    "    y_val.append(label.numpy())\n",
    "\n",
    "# Concatenate the lists to get the full 'x' and 'y' arrays\n",
    "x_train = np.concatenate(x_train, axis=0)\n",
    "x_val = np.concatenate(x_val, axis=0)\n",
    "x_test = np.concatenate(x_test, axis=0)\n",
    "y_train = np.concatenate(y_train, axis=0)\n",
    "y_val = np.concatenate(y_val, axis=0)\n",
    "y_test = np.concatenate(y_test, axis=0)\n"
   ]
  },
  {
   "cell_type": "code",
   "execution_count": null,
   "metadata": {
    "execution": {
     "iopub.execute_input": "2023-08-15T12:40:23.007799Z",
     "iopub.status.busy": "2023-08-15T12:40:23.007454Z",
     "iopub.status.idle": "2023-08-15T12:40:23.015544Z",
     "shell.execute_reply": "2023-08-15T12:40:23.014408Z",
     "shell.execute_reply.started": "2023-08-15T12:40:23.007771Z"
    }
   },
   "outputs": [],
   "source": [
    "# check the shapes of 'x_train' and 'y_train':\n",
    "print(\"Shape of 'x_train':\", x_train.shape)\n",
    "print(\"Shape of 'y_train':\", y_train.shape)\n",
    "print(\"Shape of 'x_val':\", x_val.shape)\n",
    "print(\"Shape of 'y_val':\", y_val.shape)\n",
    "print(\"Shape of 'x_test':\", x_test.shape)\n",
    "print(\"Shape of 'y_test':\", y_test.shape)"
   ]
  },
  {
   "cell_type": "code",
   "execution_count": null,
   "metadata": {
    "execution": {
     "iopub.execute_input": "2023-08-15T12:40:23.016943Z",
     "iopub.status.busy": "2023-08-15T12:40:23.016674Z",
     "iopub.status.idle": "2023-08-15T12:40:24.349203Z",
     "shell.execute_reply": "2023-08-15T12:40:24.347851Z",
     "shell.execute_reply.started": "2023-08-15T12:40:23.016918Z"
    }
   },
   "outputs": [],
   "source": [
    "# Pixel Value Scaling for Datasets: Normalizing and Standardizing the Data\n",
    "x_train=x_train/256\n",
    "x_val=x_val/256\n",
    "x_test=x_test/256"
   ]
  },
  {
   "cell_type": "code",
   "execution_count": null,
   "metadata": {
    "execution": {
     "iopub.execute_input": "2023-08-15T12:40:24.352693Z",
     "iopub.status.busy": "2023-08-15T12:40:24.352337Z",
     "iopub.status.idle": "2023-08-15T12:40:25.65659Z",
     "shell.execute_reply": "2023-08-15T12:40:25.65524Z",
     "shell.execute_reply.started": "2023-08-15T12:40:24.352664Z"
    }
   },
   "outputs": [],
   "source": [
    "# We use transfer learning with VGG16 as the base model\n",
    "def CNN_Model():\n",
    "    base_model = VGG16(weights='imagenet', include_top = False, input_shape=(img_width, img_height, 3))\n",
    "    # Freeze the base model\n",
    "    for layer in base_model.layers:\n",
    "        layer.trainable = False\n",
    "\n",
    "    for i in range(3):\n",
    "        base_model.layers[-2-i].trainable = True\n",
    "\n",
    "    CNN = Sequential()\n",
    "    CNN.add(Input(shape=(img_width, img_height,3)))\n",
    "    CNN.add(base_model)\n",
    "    CNN.add(Flatten())\n",
    "    CNN.add(Dropout(0.3))\n",
    "    CNN.add(Dense(128, activation='relu', kernel_regularizer=l2(0.05)))\n",
    "    CNN.add(Dropout(0.2))\n",
    "    CNN.add(Dense(2, activation='sigmoid'))\n",
    "    \n",
    "    return CNN\n",
    "\n",
    "# Training The CNN\n",
    "model = CNN_Model()\n",
    "model.compile(optimizer='adam', loss='binary_crossentropy', metrics=['accuracy'])\n",
    "model.summary()  \n",
    "# Visualized Layers of CNN\n",
    "keras.utils.plot_model(model, show_shapes=True)"
   ]
  },
  {
   "cell_type": "code",
   "execution_count": null,
   "metadata": {
    "execution": {
     "iopub.execute_input": "2023-08-15T12:40:25.658549Z",
     "iopub.status.busy": "2023-08-15T12:40:25.658183Z",
     "iopub.status.idle": "2023-08-15T13:10:26.655996Z",
     "shell.execute_reply": "2023-08-15T13:10:26.654669Z",
     "shell.execute_reply.started": "2023-08-15T12:40:25.658515Z"
    }
   },
   "outputs": [],
   "source": [
    "hist = model.fit(x_train, y_train, epochs= epochs, validation_data= (x_val, y_val))\n",
    "print(hist.history)\n",
    "best_score = max(hist.history['val_accuracy'])\n",
    "print(f\"Best Validation score is: {best_score}\")"
   ]
  },
  {
   "cell_type": "code",
   "execution_count": null,
   "metadata": {
    "editable": false,
    "execution": {
     "iopub.execute_input": "2023-08-15T13:10:26.657649Z",
     "iopub.status.busy": "2023-08-15T13:10:26.657318Z",
     "iopub.status.idle": "2023-08-15T13:10:27.066488Z",
     "shell.execute_reply": "2023-08-15T13:10:27.065418Z",
     "shell.execute_reply.started": "2023-08-15T13:10:26.657622Z"
    }
   },
   "outputs": [],
   "source": [
    "# Extract the training and validation loss values from the history object\n",
    "train_loss = hist.history['loss']\n",
    "val_loss = hist.history['val_loss']\n",
    "\n",
    "# Create a list of epoch numbers (1 to number of epochs)\n",
    "epochs = range(1, len(train_loss) + 1)\n",
    "\n",
    "# Plot the loss graph\n",
    "plt.plot(epochs, train_loss, label='Training Loss')\n",
    "plt.plot(epochs, val_loss, label='Validation Loss')\n",
    "plt.title('Training and Validation Loss')\n",
    "plt.xlabel('Epochs')\n",
    "plt.ylabel('Loss')\n",
    "plt.legend()\n",
    "plt.grid(True)\n",
    "plt.show()"
   ]
  },
  {
   "cell_type": "code",
   "execution_count": null,
   "metadata": {
    "editable": false,
    "execution": {
     "iopub.execute_input": "2023-08-15T13:10:27.067972Z",
     "iopub.status.busy": "2023-08-15T13:10:27.067691Z",
     "iopub.status.idle": "2023-08-15T13:10:27.420569Z",
     "shell.execute_reply": "2023-08-15T13:10:27.419295Z",
     "shell.execute_reply.started": "2023-08-15T13:10:27.067947Z"
    }
   },
   "outputs": [],
   "source": [
    "# Extract the training and validation loss values from the history object\n",
    "train_accuracy = hist.history['accuracy']\n",
    "val_accuracy = hist.history['val_accuracy']\n",
    "\n",
    "# Create a list of epoch numbers (1 to number of epochs)\n",
    "epochs = range(1, len(train_accuracy) + 1)\n",
    "\n",
    "# Plot the loss graph\n",
    "plt.plot(epochs, train_accuracy , label='Training Acc')\n",
    "plt.plot(epochs, val_accuracy, label='Validation Acc')\n",
    "plt.title('Training and Validation Accuracy')\n",
    "plt.xlabel('Epochs')\n",
    "plt.ylabel('Acc')\n",
    "plt.legend()\n",
    "plt.grid(True)\n",
    "plt.show()"
   ]
  },
  {
   "cell_type": "code",
   "execution_count": null,
   "metadata": {
    "execution": {
     "iopub.execute_input": "2023-08-15T13:10:27.422487Z",
     "iopub.status.busy": "2023-08-15T13:10:27.422047Z",
     "iopub.status.idle": "2023-08-15T13:10:27.672492Z",
     "shell.execute_reply": "2023-08-15T13:10:27.671159Z",
     "shell.execute_reply.started": "2023-08-15T13:10:27.422446Z"
    }
   },
   "outputs": [],
   "source": [
    "# Save the model\n",
    "model.save('CNN_model.h5')\n",
    "print (\"Model saved successfully!\")"
   ]
  }
 ],
 "metadata": {
  "kaggle": {
   "accelerator": "tpu1vmV38",
   "dataSources": [
    {
     "datasetId": 17810,
     "sourceId": 23812,
     "sourceType": "datasetVersion"
    }
   ],
   "dockerImageVersionId": 30527,
   "isGpuEnabled": false,
   "isInternetEnabled": false,
   "language": "python",
   "sourceType": "notebook"
  },
  "kernelspec": {
   "display_name": "Python 3 (ipykernel)",
   "language": "python",
   "name": "python3"
  },
  "language_info": {
   "codemirror_mode": {
    "name": "ipython",
    "version": 3
   },
   "file_extension": ".py",
   "mimetype": "text/x-python",
   "name": "python",
   "nbconvert_exporter": "python",
   "pygments_lexer": "ipython3",
   "version": "3.11.5"
  }
 },
 "nbformat": 4,
 "nbformat_minor": 4
}
