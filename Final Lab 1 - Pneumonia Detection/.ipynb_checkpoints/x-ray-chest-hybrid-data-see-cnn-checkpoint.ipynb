{
 "cells": [
  {
   "cell_type": "code",
   "execution_count": 1,
   "metadata": {
    "execution": {
     "iopub.execute_input": "2023-11-01T15:41:48.528026Z",
     "iopub.status.busy": "2023-11-01T15:41:48.527668Z",
     "iopub.status.idle": "2023-11-01T15:42:04.986319Z",
     "shell.execute_reply": "2023-11-01T15:42:04.985411Z",
     "shell.execute_reply.started": "2023-11-01T15:41:48.527993Z"
    }
   },
   "outputs": [
    {
     "name": "stdout",
     "output_type": "stream",
     "text": [
      "WARNING:tensorflow:From E:\\Anaconda\\Lib\\site-packages\\keras\\src\\losses.py:2976: The name tf.losses.sparse_softmax_cross_entropy is deprecated. Please use tf.compat.v1.losses.sparse_softmax_cross_entropy instead.\n",
      "\n"
     ]
    }
   ],
   "source": [
    "#library\n",
    "import os\n",
    "import pandas as pd\n",
    "import matplotlib.pyplot as plt\n",
    "import cv2\n",
    "from tensorflow.keras.utils import to_categorical\n",
    "from tensorflow.keras.models import Sequential\n",
    "from tensorflow.keras.layers import Dense, Conv2D, MaxPool2D, Flatten\n",
    "from traitlets import validate\n",
    "import sklearn.model_selection\n",
    "import numpy as np\n",
    "import tensorflow as tf\n",
    "import sklearn.metrics\n",
    "from sklearn.metrics import confusion_matrix\n",
    "from sklearn.metrics import classification_report"
   ]
  },
  {
   "cell_type": "code",
   "execution_count": 3,
   "metadata": {
    "execution": {
     "iopub.execute_input": "2023-11-01T15:42:04.989785Z",
     "iopub.status.busy": "2023-11-01T15:42:04.988749Z",
     "iopub.status.idle": "2023-11-01T15:44:18.838214Z",
     "shell.execute_reply": "2023-11-01T15:44:18.837185Z",
     "shell.execute_reply.started": "2023-11-01T15:42:04.989744Z"
    }
   },
   "outputs": [],
   "source": [
    "#raed_path\n",
    "all_folder=\"./\"\n",
    "train_folder=all_folder+\"/train\"\n",
    "test_folder=all_folder+\"/test\"\n",
    "validate_folder=all_folder+\"/val\"\n",
    "#store_it_there_inside_path\n",
    "normal_folder_test=test_folder+\"/NORMAL/\"\n",
    "pneumonia_folder_test=test_folder+\"/PNEUMONIA/\"\n",
    "normal_folder_train=train_folder+\"/NORMAL/\"\n",
    "pneumonia_folder_train=train_folder+\"/PNEUMONIA/\"\n",
    "normal_folder_validate=validate_folder+\"/NORMAL/\"\n",
    "pneumonia_folder_validate=validate_folder+\"/PNEUMONIA/\"\n",
    "#get_names of file in folder(names of pic)_by path-of folder\n",
    "import os\n",
    "name_files_normal_train=os.listdir(normal_folder_train)\n",
    "name_files_pneumonia_train=os.listdir(pneumonia_folder_train)\n",
    "name_files_normal_test=os.listdir(normal_folder_test)\n",
    "name_files_pneumonia_test=os.listdir(pneumonia_folder_test)\n",
    "name_files_normal_validate=os.listdir(normal_folder_validate)\n",
    "name_files_pneumonia_validate=os.listdir(pneumonia_folder_validate)\n",
    "#store_path_in_Data_frame\n",
    "import pandas as pd\n",
    "df_train_normal=pd.DataFrame(name_files_normal_train,columns=[\"images\"])\n",
    "df_train_normal[\"labels\"]=0\n",
    "df_train_normal[\"images\"]=normal_folder_train+df_train_normal[\"images\"]\n",
    "\n",
    "\n",
    "df_train_pneumonia=pd.DataFrame(name_files_pneumonia_train,columns=[\"images\"])\n",
    "df_train_pneumonia[\"labels\"]=2\n",
    "df_train_pneumonia[\"images\"]=pneumonia_folder_train+df_train_pneumonia[\"images\"]\n",
    "\n",
    "df_test_normal=pd.DataFrame(name_files_normal_test,columns=[\"images\"])\n",
    "df_test_normal[\"labels\"]=0\n",
    "df_test_normal[\"images\"]=normal_folder_test+df_test_normal[\"images\"]\n",
    "\n",
    "df_test_pneumonia=pd.DataFrame(name_files_pneumonia_test,columns=[\"images\"])\n",
    "df_test_pneumonia[\"labels\"]=2\n",
    "df_test_pneumonia[\"images\"]=pneumonia_folder_test+df_test_pneumonia[\"images\"]\n",
    "\n",
    "df_validate_normal=pd.DataFrame(name_files_normal_validate,columns=[\"images\"])\n",
    "df_validate_normal[\"labels\"]=0\n",
    "df_validate_normal[\"images\"]=normal_folder_validate+df_validate_normal[\"images\"]\n",
    "\n",
    "df_validate_pneumonia=pd.DataFrame(name_files_pneumonia_validate,columns=[\"images\"])\n",
    "df_validate_pneumonia[\"labels\"]=1\n",
    "df_validate_pneumonia[\"images\"]=pneumonia_folder_validate+df_validate_pneumonia[\"images\"]\n",
    "\n",
    "\n",
    "#concat\n",
    "DF1=pd.concat([df_train_pneumonia,df_train_normal,df_test_pneumonia,df_test_normal,df_validate_pneumonia,df_validate_normal], ignore_index=True)\n",
    "#df_test=pd.concat([df_test_pneumonia,df_test_normal],ignore_index=True)\n",
    "#df_validate=pd.concat([df_validate_pneumonia,df_validate_normal],ignore_index=True)\n",
    "#shuffle\n",
    "DF1.sample(frac=1, random_state=42).reset_index(drop=True)\n",
    "# df_test.sample(frac=1, random_state=42).reset_index(drop=True)\n",
    "# df_validate.sample(frac=1, random_state=42).reset_index(drop=True)\n",
    "\n",
    "#convert to matrix\n",
    "DF1[\"mat_images\"]=DF1['images'].apply(lambda x: cv2.resize(cv2.imread(x,0) ,( 224, 224)))\n",
    "# df_train[\"mat_images\"]=df_train['images'].apply(lambda x: plt.imread(x))\n",
    "# df_validate[\"mat_images\"]=df_validate['images'].apply(lambda x: plt.imread(x))\n"
   ]
  },
  {
   "cell_type": "code",
   "execution_count": 4,
   "metadata": {
    "execution": {
     "iopub.execute_input": "2023-11-01T15:44:18.840252Z",
     "iopub.status.busy": "2023-11-01T15:44:18.839579Z",
     "iopub.status.idle": "2023-11-01T15:45:51.893865Z",
     "shell.execute_reply": "2023-11-01T15:45:51.892681Z",
     "shell.execute_reply.started": "2023-11-01T15:44:18.840215Z"
    }
   },
   "outputs": [
    {
     "ename": "FileNotFoundError",
     "evalue": "[WinError 3] The system cannot find the path specified: '/kaggle/input/tuberculosis-tb-chest-xray-dataset/TB_Chest_Radiography_Database/Normal/'",
     "output_type": "error",
     "traceback": [
      "\u001b[1;31m---------------------------------------------------------------------------\u001b[0m",
      "\u001b[1;31mFileNotFoundError\u001b[0m                         Traceback (most recent call last)",
      "Cell \u001b[1;32mIn[4], line 5\u001b[0m\n\u001b[0;32m      2\u001b[0m DATA2_TRAIN_NORNAL\u001b[38;5;241m=\u001b[39mDATA2_PATH\u001b[38;5;241m+\u001b[39m\u001b[38;5;124m\"\u001b[39m\u001b[38;5;124m/Normal/\u001b[39m\u001b[38;5;124m\"\u001b[39m\n\u001b[0;32m      3\u001b[0m DATA2_TRAIN_Tuberculosis\u001b[38;5;241m=\u001b[39mDATA2_PATH\u001b[38;5;241m+\u001b[39m\u001b[38;5;124m\"\u001b[39m\u001b[38;5;124m/Tuberculosis/\u001b[39m\u001b[38;5;124m\"\u001b[39m\n\u001b[1;32m----> 5\u001b[0m Normal_img\u001b[38;5;241m=\u001b[39mos\u001b[38;5;241m.\u001b[39mlistdir(DATA2_TRAIN_NORNAL)\n\u001b[0;32m      6\u001b[0m Tuberculosis_img\u001b[38;5;241m=\u001b[39mos\u001b[38;5;241m.\u001b[39mlistdir(DATA2_TRAIN_Tuberculosis)\n\u001b[0;32m      7\u001b[0m \u001b[38;5;66;03m# DATA2_TRAIN_NORNAL=DATA2_TRAIN_NORNAL+Normal_img\u001b[39;00m\n\u001b[0;32m      8\u001b[0m \u001b[38;5;66;03m# DATA2_TEST_Tuberculosis=DATA2_TEST_Tuberculosis+Tuberculosis_img\u001b[39;00m\n",
      "\u001b[1;31mFileNotFoundError\u001b[0m: [WinError 3] The system cannot find the path specified: '/kaggle/input/tuberculosis-tb-chest-xray-dataset/TB_Chest_Radiography_Database/Normal/'"
     ]
    }
   ],
   "source": [
    "\n",
    "DATA2_PATH=\"/kaggle/input/tuberculosis-tb-chest-xray-dataset/TB_Chest_Radiography_Database\"\n",
    "DATA2_TRAIN_NORNAL=DATA2_PATH+\"/Normal/\"\n",
    "DATA2_TRAIN_Tuberculosis=DATA2_PATH+\"/Tuberculosis/\"\n",
    "\n",
    "Normal_img=os.listdir(DATA2_TRAIN_NORNAL)\n",
    "Tuberculosis_img=os.listdir(DATA2_TRAIN_Tuberculosis)\n",
    "# DATA2_TRAIN_NORNAL=DATA2_TRAIN_NORNAL+Normal_img\n",
    "# DATA2_TEST_Tuberculosis=DATA2_TEST_Tuberculosis+Tuberculosis_img\n",
    "dnorm=pd.DataFrame(Normal_img,columns=[\"images\"])\n",
    "dnorm[\"labels\"]=1\n",
    "dnorm[\"images\"]=DATA2_TRAIN_NORNAL+dnorm[\"images\"]\n",
    "\n",
    "dtuber=pd.DataFrame(Tuberculosis_img,columns=[\"images\"])\n",
    "dtuber[\"labels\"]=3\n",
    "dtuber[\"images\"]=DATA2_TRAIN_Tuberculosis+dtuber[\"images\"]\n",
    "\n",
    "\n",
    "DF2=pd.concat([dnorm,dtuber],ignore_index=True)\n",
    "DF2[\"mat_images\"]=DF2['images'].apply(lambda x: cv2.resize(cv2.imread(x,0) ,( 224, 224)))\n",
    "DF2.sample(frac=1, random_state=42).reset_index(drop=True)\n",
    "\n",
    "\n"
   ]
  },
  {
   "cell_type": "code",
   "execution_count": null,
   "metadata": {
    "execution": {
     "iopub.execute_input": "2023-11-01T15:45:51.89775Z",
     "iopub.status.busy": "2023-11-01T15:45:51.897434Z",
     "iopub.status.idle": "2023-11-01T15:45:53.379793Z",
     "shell.execute_reply": "2023-11-01T15:45:53.378761Z",
     "shell.execute_reply.started": "2023-11-01T15:45:51.897723Z"
    }
   },
   "outputs": [],
   "source": [
    "F_DATA=pd.concat([DF1,DF2],ignore_index=True)\n",
    "F_DATA.sample(frac=1, random_state=42).reset_index(drop=True)\n",
    "F_DATA"
   ]
  },
  {
   "cell_type": "code",
   "execution_count": null,
   "metadata": {
    "execution": {
     "iopub.execute_input": "2023-11-01T15:45:53.381496Z",
     "iopub.status.busy": "2023-11-01T15:45:53.381084Z",
     "iopub.status.idle": "2023-11-01T15:45:53.387071Z",
     "shell.execute_reply": "2023-11-01T15:45:53.386093Z",
     "shell.execute_reply.started": "2023-11-01T15:45:53.381459Z"
    }
   },
   "outputs": [],
   "source": [
    "X=F_DATA[\"mat_images\"]\n",
    "Y=F_DATA[\"labels\"]"
   ]
  },
  {
   "cell_type": "code",
   "execution_count": null,
   "metadata": {
    "execution": {
     "iopub.execute_input": "2023-11-01T15:45:53.388639Z",
     "iopub.status.busy": "2023-11-01T15:45:53.388317Z",
     "iopub.status.idle": "2023-11-01T15:45:56.625738Z",
     "shell.execute_reply": "2023-11-01T15:45:56.624915Z",
     "shell.execute_reply.started": "2023-11-01T15:45:53.388613Z"
    }
   },
   "outputs": [],
   "source": [
    "#normalize \n",
    "X=X/255\n"
   ]
  },
  {
   "cell_type": "code",
   "execution_count": null,
   "metadata": {
    "execution": {
     "iopub.execute_input": "2023-11-01T15:45:56.627263Z",
     "iopub.status.busy": "2023-11-01T15:45:56.626896Z",
     "iopub.status.idle": "2023-11-01T15:45:56.632717Z",
     "shell.execute_reply": "2023-11-01T15:45:56.63167Z",
     "shell.execute_reply.started": "2023-11-01T15:45:56.627213Z"
    }
   },
   "outputs": [],
   "source": [
    "from tensorflow.keras.utils import to_categorical\n",
    "Y=to_categorical(Y,4)\n"
   ]
  },
  {
   "cell_type": "code",
   "execution_count": null,
   "metadata": {
    "execution": {
     "iopub.execute_input": "2023-11-01T15:45:56.636839Z",
     "iopub.status.busy": "2023-11-01T15:45:56.636033Z",
     "iopub.status.idle": "2023-11-01T15:45:56.653157Z",
     "shell.execute_reply": "2023-11-01T15:45:56.652099Z",
     "shell.execute_reply.started": "2023-11-01T15:45:56.636799Z"
    }
   },
   "outputs": [],
   "source": [
    " from sklearn.model_selection import train_test_split\n",
    "X_train, X_test, y_train, y_test = train_test_split(X,Y, test_size=0.20, random_state=42)\n",
    "print(X_train.shape)\n",
    "print(y_train.shape)\n",
    "print(X_test.shape)\n",
    "print(y_test.shape)"
   ]
  },
  {
   "cell_type": "code",
   "execution_count": null,
   "metadata": {
    "execution": {
     "iopub.execute_input": "2023-11-01T15:45:56.655155Z",
     "iopub.status.busy": "2023-11-01T15:45:56.654516Z",
     "iopub.status.idle": "2023-11-01T15:46:55.911917Z",
     "shell.execute_reply": "2023-11-01T15:46:55.910932Z",
     "shell.execute_reply.started": "2023-11-01T15:45:56.655123Z"
    }
   },
   "outputs": [],
   "source": [
    "X_train = np.array([np.array(x, dtype=np.float32) for x in X_train], dtype=object)\n",
    "X_train = tf.convert_to_tensor(X_train, dtype=tf.float32)"
   ]
  },
  {
   "cell_type": "code",
   "execution_count": null,
   "metadata": {
    "execution": {
     "iopub.execute_input": "2023-11-01T15:46:55.916333Z",
     "iopub.status.busy": "2023-11-01T15:46:55.915998Z",
     "iopub.status.idle": "2023-11-01T15:47:09.239149Z",
     "shell.execute_reply": "2023-11-01T15:47:09.238049Z",
     "shell.execute_reply.started": "2023-11-01T15:46:55.916307Z"
    }
   },
   "outputs": [],
   "source": [
    "X_test = np.array([np.array(x, dtype=np.float32) for x in X_test], dtype=object)\n",
    "X_test = tf.convert_to_tensor(X_test, dtype=tf.float32)"
   ]
  },
  {
   "cell_type": "code",
   "execution_count": null,
   "metadata": {
    "execution": {
     "iopub.execute_input": "2023-11-01T15:47:09.241392Z",
     "iopub.status.busy": "2023-11-01T15:47:09.240958Z",
     "iopub.status.idle": "2023-11-01T15:47:09.247551Z",
     "shell.execute_reply": "2023-11-01T15:47:09.246384Z",
     "shell.execute_reply.started": "2023-11-01T15:47:09.241333Z"
    }
   },
   "outputs": [],
   "source": [
    "print(X_train.shape)\n",
    "print(y_train.shape)\n",
    "print(X_test.shape)\n",
    "print(y_test.shape)"
   ]
  },
  {
   "cell_type": "code",
   "execution_count": null,
   "metadata": {
    "execution": {
     "iopub.execute_input": "2023-11-01T15:47:09.249217Z",
     "iopub.status.busy": "2023-11-01T15:47:09.248904Z",
     "iopub.status.idle": "2023-11-01T15:47:09.536025Z",
     "shell.execute_reply": "2023-11-01T15:47:09.535069Z",
     "shell.execute_reply.started": "2023-11-01T15:47:09.249189Z"
    }
   },
   "outputs": [],
   "source": [
    "import tensorflow as tf\n",
    "import keras\n",
    "model = keras.Sequential([\n",
    "    keras.layers.Conv2D(32, (3, 3), activation='relu', input_shape=(224, 224, 1)),\n",
    "    keras.layers.MaxPooling2D((2, 2)),\n",
    "    keras.layers.Conv2D(64, (3, 3), activation='relu'),\n",
    "    keras.layers.MaxPooling2D((2, 2)),\n",
    "    keras.layers.Conv2D(128, (3, 3), activation='relu'),\n",
    "    keras.layers.Conv2D(128, (3, 3), activation='relu'),\n",
    "    keras.layers.MaxPooling2D((2, 2)),\n",
    "    keras.layers.Flatten(),\n",
    "    keras.layers.Dense(128, activation='relu'),\n",
    "    keras.layers.Dense(4, activation='softmax')\n",
    "])\n",
    "\n",
    "model.compile(optimizer='adam', loss='categorical_crossentropy', metrics=['accuracy'] )\n",
    "model.summary()\n",
    "\n"
   ]
  },
  {
   "cell_type": "code",
   "execution_count": null,
   "metadata": {
    "execution": {
     "iopub.execute_input": "2023-11-01T15:47:09.537628Z",
     "iopub.status.busy": "2023-11-01T15:47:09.53729Z",
     "iopub.status.idle": "2023-11-01T15:50:34.091158Z",
     "shell.execute_reply": "2023-11-01T15:50:34.09009Z",
     "shell.execute_reply.started": "2023-11-01T15:47:09.5376Z"
    }
   },
   "outputs": [],
   "source": [
    "model.fit(X_train,y_train,epochs=10,validation_data=(X_test,y_test),batch_size=64) "
   ]
  },
  {
   "cell_type": "code",
   "execution_count": null,
   "metadata": {
    "execution": {
     "iopub.execute_input": "2023-11-01T15:50:34.093511Z",
     "iopub.status.busy": "2023-11-01T15:50:34.092691Z",
     "iopub.status.idle": "2023-11-01T15:50:34.466481Z",
     "shell.execute_reply": "2023-11-01T15:50:34.465465Z",
     "shell.execute_reply.started": "2023-11-01T15:50:34.093472Z"
    }
   },
   "outputs": [],
   "source": [
    "plt.plot(model.history.history['accuracy'])\n",
    "plt.xlabel('Epoch')\n",
    "plt.ylabel('Accuracy')\n",
    "plt.title('Accuracy of the model')\n",
    "plt.show()"
   ]
  },
  {
   "cell_type": "code",
   "execution_count": null,
   "metadata": {
    "execution": {
     "iopub.execute_input": "2023-11-01T15:50:34.468428Z",
     "iopub.status.busy": "2023-11-01T15:50:34.467999Z",
     "iopub.status.idle": "2023-11-01T15:50:36.205395Z",
     "shell.execute_reply": "2023-11-01T15:50:36.204416Z",
     "shell.execute_reply.started": "2023-11-01T15:50:34.468393Z"
    }
   },
   "outputs": [],
   "source": [
    "y_pred = model.predict(X_test)\n",
    "y_true = np.argmax(y_test, axis=1)\n",
    "y_pred = np.argmax(y_pred, axis=1)"
   ]
  },
  {
   "cell_type": "code",
   "execution_count": null,
   "metadata": {
    "execution": {
     "iopub.execute_input": "2023-11-01T15:50:36.207159Z",
     "iopub.status.busy": "2023-11-01T15:50:36.20678Z",
     "iopub.status.idle": "2023-11-01T15:50:37.010143Z",
     "shell.execute_reply": "2023-11-01T15:50:37.009138Z",
     "shell.execute_reply.started": "2023-11-01T15:50:36.207126Z"
    }
   },
   "outputs": [],
   "source": [
    "import numpy as np\n",
    "import matplotlib.pyplot as plt\n",
    "import seaborn as sns\n",
    "from sklearn.metrics import confusion_matrix\n",
    "from sklearn.metrics import classification_report\n",
    "# Calculate the confusion matrix\n",
    "confusion = confusion_matrix(y_true,y_pred)\n",
    "# Define class labels\n",
    "class_labels = ['Normal Pnemounia', 'Normal tuber', 'Pnemounia', 'Tuber']\n",
    "# Create a heatmap\n",
    "plt.figure(figsize=(4, 3))\n",
    "sns.set(font_scale=1.2)\n",
    "sns.heatmap(confusion, annot=True, fmt=\"d\", cmap=\"Blues\", xticklabels=class_labels, yticklabels=class_labels)\n",
    "plt.xlabel('Predicted')\n",
    "plt.ylabel('True')\n",
    "plt.title('Confusion Matrix')\n",
    "plt.show()\n",
    "\n"
   ]
  },
  {
   "cell_type": "code",
   "execution_count": null,
   "metadata": {
    "execution": {
     "iopub.execute_input": "2023-11-01T15:50:37.011589Z",
     "iopub.status.busy": "2023-11-01T15:50:37.011284Z",
     "iopub.status.idle": "2023-11-01T15:50:37.028874Z",
     "shell.execute_reply": "2023-11-01T15:50:37.027819Z",
     "shell.execute_reply.started": "2023-11-01T15:50:37.011563Z"
    }
   },
   "outputs": [],
   "source": [
    "print(\"Classification Report:\")\n",
    "print(classification_report(y_true,y_pred))"
   ]
  },
  {
   "cell_type": "code",
   "execution_count": null,
   "metadata": {
    "execution": {
     "iopub.execute_input": "2023-11-01T15:50:37.030438Z",
     "iopub.status.busy": "2023-11-01T15:50:37.030111Z",
     "iopub.status.idle": "2023-11-01T15:50:37.312281Z",
     "shell.execute_reply": "2023-11-01T15:50:37.311221Z",
     "shell.execute_reply.started": "2023-11-01T15:50:37.03041Z"
    }
   },
   "outputs": [],
   "source": [
    "model.save('FINAL.h5')"
   ]
  }
 ],
 "metadata": {
  "kaggle": {
   "accelerator": "nvidiaTeslaT4",
   "dataSources": [
    {
     "datasetId": 17810,
     "sourceId": 23812,
     "sourceType": "datasetVersion"
    },
    {
     "datasetId": 891819,
     "sourceId": 2332307,
     "sourceType": "datasetVersion"
    }
   ],
   "dockerImageVersionId": 30527,
   "isGpuEnabled": true,
   "isInternetEnabled": false,
   "language": "python",
   "sourceType": "notebook"
  },
  "kernelspec": {
   "display_name": "Python 3 (ipykernel)",
   "language": "python",
   "name": "python3"
  },
  "language_info": {
   "codemirror_mode": {
    "name": "ipython",
    "version": 3
   },
   "file_extension": ".py",
   "mimetype": "text/x-python",
   "name": "python",
   "nbconvert_exporter": "python",
   "pygments_lexer": "ipython3",
   "version": "3.11.5"
  }
 },
 "nbformat": 4,
 "nbformat_minor": 4
}
