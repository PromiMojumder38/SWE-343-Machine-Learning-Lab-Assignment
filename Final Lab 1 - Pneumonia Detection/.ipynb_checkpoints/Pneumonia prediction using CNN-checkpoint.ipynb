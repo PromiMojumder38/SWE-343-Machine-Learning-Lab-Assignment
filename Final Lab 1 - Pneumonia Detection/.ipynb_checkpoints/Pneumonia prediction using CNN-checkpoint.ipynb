{
 "cells": [
  {
   "cell_type": "markdown",
   "metadata": {},
   "source": [
    "## Importing Libraries "
   ]
  },
  {
   "cell_type": "code",
   "execution_count": 4,
   "metadata": {
    "_cell_guid": "b1076dfc-b9ad-4769-8c92-a6c4dae69d19",
    "_uuid": "8f2839f25d086af736a60e9eeb907d3b93b6e0e5",
    "execution": {
     "iopub.execute_input": "2023-06-06T17:03:21.402023Z",
     "iopub.status.busy": "2023-06-06T17:03:21.401117Z",
     "iopub.status.idle": "2023-06-06T17:03:31.404125Z",
     "shell.execute_reply": "2023-06-06T17:03:31.403031Z",
     "shell.execute_reply.started": "2023-06-06T17:03:21.401965Z"
    }
   },
   "outputs": [],
   "source": [
    "import os\n",
    "import numpy as np\n",
    "from PIL import Image\n",
    "from tqdm import tqdm\n",
    "import cv2 \n",
    "from matplotlib import pyplot as plt\n",
    "from keras.preprocessing.image import ImageDataGenerator\n",
    "from keras.callbacks import EarlyStopping, ReduceLROnPlateau\n",
    "import tensorflow as tf\n",
    "from sklearn.metrics import confusion_matrix, classification_report\n",
    "from sklearn.model_selection import train_test_split\n",
    "from keras.layers import Conv2D, Flatten, MaxPooling2D, Dense, Dropout, BatchNormalization, Activation, Input\n",
    "from keras.models import Sequential, Model\n",
    "import seaborn as sns\n",
    "from keras import regularizers\n",
    "from keras.optimizers import RMSprop"
   ]
  },
  {
   "cell_type": "markdown",
   "metadata": {},
   "source": [
    "## Loading Data "
   ]
  },
  {
   "cell_type": "code",
   "execution_count": 5,
   "metadata": {
    "execution": {
     "iopub.execute_input": "2023-06-06T17:03:31.407018Z",
     "iopub.status.busy": "2023-06-06T17:03:31.406249Z",
     "iopub.status.idle": "2023-06-06T17:03:31.415196Z",
     "shell.execute_reply": "2023-06-06T17:03:31.413933Z",
     "shell.execute_reply.started": "2023-06-06T17:03:31.406976Z"
    }
   },
   "outputs": [],
   "source": [
    "res = 216\n",
    "def load_data(directory):\n",
    "    images = []\n",
    "    labels = []\n",
    "    for folder in tqdm(os.listdir(directory)):\n",
    "        label = folder\n",
    "        data_path = os.path.join(directory, folder)\n",
    "        for filename in tqdm(os.listdir(data_path), position = 0, leave = True, desc = f\"Loading images from {directory.split('/')[5]} folder\"):\n",
    "            img = cv2.imread(os.path.join(data_path, filename))\n",
    "            img = cv2.resize(img, (res, res))\n",
    "            img = np.array(img)\n",
    "            images.append(img)\n",
    "            labels.append(label)\n",
    "    return np.array(images), np.array(labels)"
   ]
  },
  {
   "cell_type": "code",
   "execution_count": 3,
   "metadata": {
    "execution": {
     "iopub.execute_input": "2023-06-06T17:03:31.417952Z",
     "iopub.status.busy": "2023-06-06T17:03:31.416873Z",
     "iopub.status.idle": "2023-06-06T17:05:41.041233Z",
     "shell.execute_reply": "2023-06-06T17:05:41.040032Z",
     "shell.execute_reply.started": "2023-06-06T17:03:31.417917Z"
    }
   },
   "outputs": [
    {
     "name": "stderr",
     "output_type": "stream",
     "text": [
      "  0%|                                                                                            | 0/3 [00:00<?, ?it/s]\n"
     ]
    },
    {
     "ename": "NotADirectoryError",
     "evalue": "[WinError 267] The directory name is invalid: './train/.DS_Store'",
     "output_type": "error",
     "traceback": [
      "\u001b[1;31m---------------------------------------------------------------------------\u001b[0m",
      "\u001b[1;31mNotADirectoryError\u001b[0m                        Traceback (most recent call last)",
      "Cell \u001b[1;32mIn[3], line 1\u001b[0m\n\u001b[1;32m----> 1\u001b[0m x_train, y_train \u001b[38;5;241m=\u001b[39m load_data(\u001b[38;5;124m'\u001b[39m\u001b[38;5;124m./train/\u001b[39m\u001b[38;5;124m'\u001b[39m)\n\u001b[0;32m      2\u001b[0m x_test, y_test \u001b[38;5;241m=\u001b[39m load_data(\u001b[38;5;124m'\u001b[39m\u001b[38;5;124m./test/\u001b[39m\u001b[38;5;124m'\u001b[39m)\n",
      "Cell \u001b[1;32mIn[2], line 8\u001b[0m, in \u001b[0;36mload_data\u001b[1;34m(directory)\u001b[0m\n\u001b[0;32m      6\u001b[0m label \u001b[38;5;241m=\u001b[39m folder\n\u001b[0;32m      7\u001b[0m data_path \u001b[38;5;241m=\u001b[39m os\u001b[38;5;241m.\u001b[39mpath\u001b[38;5;241m.\u001b[39mjoin(directory, folder)\n\u001b[1;32m----> 8\u001b[0m \u001b[38;5;28;01mfor\u001b[39;00m filename \u001b[38;5;129;01min\u001b[39;00m tqdm(os\u001b[38;5;241m.\u001b[39mlistdir(data_path), position \u001b[38;5;241m=\u001b[39m \u001b[38;5;241m0\u001b[39m, leave \u001b[38;5;241m=\u001b[39m \u001b[38;5;28;01mTrue\u001b[39;00m, desc \u001b[38;5;241m=\u001b[39m \u001b[38;5;124mf\u001b[39m\u001b[38;5;124m\"\u001b[39m\u001b[38;5;124mLoading images from \u001b[39m\u001b[38;5;132;01m{\u001b[39;00mdirectory\u001b[38;5;241m.\u001b[39msplit(\u001b[38;5;124m'\u001b[39m\u001b[38;5;124m/\u001b[39m\u001b[38;5;124m'\u001b[39m)[\u001b[38;5;241m5\u001b[39m]\u001b[38;5;132;01m}\u001b[39;00m\u001b[38;5;124m folder\u001b[39m\u001b[38;5;124m\"\u001b[39m):\n\u001b[0;32m      9\u001b[0m     img \u001b[38;5;241m=\u001b[39m cv2\u001b[38;5;241m.\u001b[39mimread(os\u001b[38;5;241m.\u001b[39mpath\u001b[38;5;241m.\u001b[39mjoin(data_path, filename))\n\u001b[0;32m     10\u001b[0m     img \u001b[38;5;241m=\u001b[39m cv2\u001b[38;5;241m.\u001b[39mresize(img, (res, res))\n",
      "\u001b[1;31mNotADirectoryError\u001b[0m: [WinError 267] The directory name is invalid: './train/.DS_Store'"
     ]
    }
   ],
   "source": [
    "x_train, y_train = load_data('./train/')\n",
    "x_test, y_test = load_data('./test/')\n"
   ]
  },
  {
   "cell_type": "code",
   "execution_count": null,
   "metadata": {
    "execution": {
     "iopub.execute_input": "2023-06-06T17:05:41.046419Z",
     "iopub.status.busy": "2023-06-06T17:05:41.044634Z",
     "iopub.status.idle": "2023-06-06T17:05:41.291877Z",
     "shell.execute_reply": "2023-06-06T17:05:41.290753Z",
     "shell.execute_reply.started": "2023-06-06T17:05:41.046374Z"
    }
   },
   "outputs": [],
   "source": [
    "x_train, x_val, y_train, y_val = train_test_split(x_train, y_train, test_size = 0.2, shuffle = True, stratify = y_train)"
   ]
  },
  {
   "cell_type": "code",
   "execution_count": null,
   "metadata": {
    "execution": {
     "iopub.execute_input": "2023-06-06T17:05:41.294164Z",
     "iopub.status.busy": "2023-06-06T17:05:41.293708Z",
     "iopub.status.idle": "2023-06-06T17:05:41.303377Z",
     "shell.execute_reply": "2023-06-06T17:05:41.301856Z",
     "shell.execute_reply.started": "2023-06-06T17:05:41.294122Z"
    }
   },
   "outputs": [],
   "source": [
    "x_train.shape, y_train.shape"
   ]
  },
  {
   "cell_type": "code",
   "execution_count": null,
   "metadata": {
    "execution": {
     "iopub.execute_input": "2023-06-06T17:05:41.307462Z",
     "iopub.status.busy": "2023-06-06T17:05:41.30614Z",
     "iopub.status.idle": "2023-06-06T17:05:41.316602Z",
     "shell.execute_reply": "2023-06-06T17:05:41.315327Z",
     "shell.execute_reply.started": "2023-06-06T17:05:41.307424Z"
    }
   },
   "outputs": [],
   "source": [
    "x_test.shape, y_test.shape"
   ]
  },
  {
   "cell_type": "code",
   "execution_count": null,
   "metadata": {
    "execution": {
     "iopub.execute_input": "2023-06-06T17:05:41.319607Z",
     "iopub.status.busy": "2023-06-06T17:05:41.318692Z",
     "iopub.status.idle": "2023-06-06T17:05:41.328884Z",
     "shell.execute_reply": "2023-06-06T17:05:41.327718Z",
     "shell.execute_reply.started": "2023-06-06T17:05:41.319568Z"
    }
   },
   "outputs": [],
   "source": [
    "x_val.shape, y_val.shape"
   ]
  },
  {
   "cell_type": "markdown",
   "metadata": {},
   "source": [
    "<div style=\"background-color: #D1E6F9; padding: 20px;\">\n",
    "    <h2 style=\"color: #0056b3;\"> Visualizing the Data 📊 </h2>"
   ]
  },
  {
   "cell_type": "code",
   "execution_count": null,
   "metadata": {
    "execution": {
     "iopub.execute_input": "2023-06-06T17:05:41.33167Z",
     "iopub.status.busy": "2023-06-06T17:05:41.331035Z",
     "iopub.status.idle": "2023-06-06T17:05:41.341871Z",
     "shell.execute_reply": "2023-06-06T17:05:41.340556Z",
     "shell.execute_reply.started": "2023-06-06T17:05:41.331633Z"
    }
   },
   "outputs": [],
   "source": [
    "def visualize_data(data, labels):\n",
    "    normal_indices = np.where(labels == 'NORMAL')[0][:5]\n",
    "    pneumonia_indices = np.where(labels == 'PNEUMONIA')[0][:5]\n",
    "    fig, axs = plt.subplots(2, 5, figsize=(12, 6))\n",
    "    fig.suptitle('Examples of Pneumonia and Normal Images')\n",
    "    for i, idx in enumerate(normal_indices):\n",
    "        ax = axs[0, i]\n",
    "        ax.imshow(data[idx])\n",
    "        ax.set_title('Normal')\n",
    "        ax.axis('off')\n",
    "\n",
    "    for i, idx in enumerate(pneumonia_indices):\n",
    "        ax = axs[1, i]\n",
    "        ax.imshow(data[idx])\n",
    "        ax.set_title('Pneumonia')\n",
    "        ax.axis('off')\n",
    "\n",
    "    plt.tight_layout()\n",
    "\n",
    "    plt.show()"
   ]
  },
  {
   "cell_type": "code",
   "execution_count": null,
   "metadata": {
    "execution": {
     "iopub.execute_input": "2023-06-06T17:05:41.344444Z",
     "iopub.status.busy": "2023-06-06T17:05:41.343775Z",
     "iopub.status.idle": "2023-06-06T17:05:42.618397Z",
     "shell.execute_reply": "2023-06-06T17:05:42.617312Z",
     "shell.execute_reply.started": "2023-06-06T17:05:41.344406Z"
    }
   },
   "outputs": [],
   "source": [
    "visualize_data(x_train, y_train)"
   ]
  },
  {
   "cell_type": "code",
   "execution_count": null,
   "metadata": {
    "execution": {
     "iopub.execute_input": "2023-06-06T17:05:42.623005Z",
     "iopub.status.busy": "2023-06-06T17:05:42.6226Z",
     "iopub.status.idle": "2023-06-06T17:05:42.632427Z",
     "shell.execute_reply": "2023-06-06T17:05:42.631189Z",
     "shell.execute_reply.started": "2023-06-06T17:05:42.622968Z"
    }
   },
   "outputs": [],
   "source": [
    "train_counts = np.unique(y_train, return_counts=True)\n",
    "test_counts = np.unique(y_test, return_counts=True)\n",
    "val_counts = np.unique(y_val, return_counts=True)"
   ]
  },
  {
   "cell_type": "code",
   "execution_count": null,
   "metadata": {
    "execution": {
     "iopub.execute_input": "2023-06-06T17:05:42.635461Z",
     "iopub.status.busy": "2023-06-06T17:05:42.633987Z",
     "iopub.status.idle": "2023-06-06T17:05:43.338285Z",
     "shell.execute_reply": "2023-06-06T17:05:43.334485Z",
     "shell.execute_reply.started": "2023-06-06T17:05:42.635383Z"
    }
   },
   "outputs": [],
   "source": [
    "fig, axs = plt.subplots(3, 1, figsize=(5, 9))\n",
    "sns.barplot(ax = axs[0], x=train_counts[0], y=train_counts[1], color='blue', alpha=0.8, label='Training')\n",
    "axs[0].set_xlabel('Classes')\n",
    "axs[0].set_ylabel('Counting')\n",
    "axs[0].set_title('Training')\n",
    "sns.barplot(ax = axs[1], x=test_counts[0], y=test_counts[1], color='red', alpha=0.8, label='Testing')\n",
    "axs[1].set_xlabel('Classes')\n",
    "axs[1].set_ylabel('Counting')\n",
    "axs[1].set_title('Training')\n",
    "sns.barplot(ax = axs[2], x=val_counts[0], y=val_counts[1], color='green', alpha=0.8, label='Validating')\n",
    "axs[2].set_xlabel('Classes')\n",
    "axs[2].set_ylabel('Counting')\n",
    "axs[2].set_title('Validatin')\n",
    "plt.title('Class Distribution')\n",
    "plt.tight_layout()\n",
    "plt.show()"
   ]
  },
  {
   "cell_type": "markdown",
   "metadata": {},
   "source": [
    "<div style=\"background-color: #D1E6F9; padding: 20px;\">\n",
    "    <h3 style=\"color: #0056b3;\"> Transforming the categorical data to numerical data </h3>"
   ]
  },
  {
   "cell_type": "code",
   "execution_count": null,
   "metadata": {
    "execution": {
     "iopub.execute_input": "2023-06-06T17:05:43.341218Z",
     "iopub.status.busy": "2023-06-06T17:05:43.340626Z",
     "iopub.status.idle": "2023-06-06T17:05:43.358509Z",
     "shell.execute_reply": "2023-06-06T17:05:43.356201Z",
     "shell.execute_reply.started": "2023-06-06T17:05:43.341176Z"
    }
   },
   "outputs": [],
   "source": [
    "y_train = np.where(y_train == 'NORMAL', 0, 1)\n",
    "y_test = np.where(y_test == 'NORMAL', 0, 1)\n",
    "y_val = np.where(y_val == 'NORMAL', 0, 1)"
   ]
  },
  {
   "cell_type": "markdown",
   "metadata": {
    "execution": {
     "iopub.execute_input": "2023-06-04T19:31:35.9703Z",
     "iopub.status.busy": "2023-06-04T19:31:35.969959Z",
     "iopub.status.idle": "2023-06-04T19:31:35.977254Z",
     "shell.execute_reply": "2023-06-04T19:31:35.975854Z",
     "shell.execute_reply.started": "2023-06-04T19:31:35.970273Z"
    }
   },
   "source": [
    "<div style=\"background-color: #D1E6F9; padding: 20px;\">\n",
    "    <h2 style=\"color: #0056b3;\"> Data Augmentation 📈 </h2>"
   ]
  },
  {
   "cell_type": "code",
   "execution_count": null,
   "metadata": {
    "execution": {
     "iopub.execute_input": "2023-06-06T17:05:43.361835Z",
     "iopub.status.busy": "2023-06-06T17:05:43.361372Z",
     "iopub.status.idle": "2023-06-06T17:05:46.912742Z",
     "shell.execute_reply": "2023-06-06T17:05:46.911592Z",
     "shell.execute_reply.started": "2023-06-06T17:05:43.361791Z"
    }
   },
   "outputs": [],
   "source": [
    "train_gen = ImageDataGenerator(featurewise_center=False,\n",
    "    width_shift_range=0.1,\n",
    "    height_shift_range=0.1,\n",
    "    brightness_range=[0.8, 1.2],\n",
    "    shear_range=0.0,\n",
    "    zoom_range=0.2,\n",
    "    horizontal_flip=True,\n",
    "    rescale=1/255,\n",
    "    data_format=None,\n",
    "    dtype=None,\n",
    ")\n",
    "\n",
    "\n",
    "val_gen = ImageDataGenerator(rescale = 1/255.)\n",
    "\n",
    "test_gen = ImageDataGenerator(rescale = 1/255.)\n",
    "\n",
    "train_gen.fit(x_train)\n",
    "val_gen.fit(x_val)\n",
    "test_gen.fit(x_test)\n",
    "\n",
    "train_set = train_gen.flow(x_train, y_train)\n",
    "val_set = val_gen.flow(x_val, y_val)\n",
    "test_set = test_gen.flow(x_test, y_test)"
   ]
  },
  {
   "cell_type": "markdown",
   "metadata": {},
   "source": [
    "<div style=\"background-color: #D1E6F9; padding: 20px;\">\n",
    "    <h2 style=\"color: #0056b3;\"> Modeling 🤖 </h2>"
   ]
  },
  {
   "cell_type": "code",
   "execution_count": null,
   "metadata": {
    "execution": {
     "iopub.execute_input": "2023-06-06T17:05:46.914901Z",
     "iopub.status.busy": "2023-06-06T17:05:46.914145Z",
     "iopub.status.idle": "2023-06-06T17:05:46.926893Z",
     "shell.execute_reply": "2023-06-06T17:05:46.925756Z",
     "shell.execute_reply.started": "2023-06-06T17:05:46.914862Z"
    }
   },
   "outputs": [],
   "source": [
    "def build_cnn():\n",
    "    l1l2 = regularizers.L1L2(l1=1e-4, l2=1e-3)\n",
    "    classifier = Sequential()\n",
    "    classifier.add(Conv2D(64, (3, 3), input_shape = (res, res, 3), activation = 'relu', kernel_regularizer = l1l2, padding = 'valid'))\n",
    "    classifier.add(MaxPooling2D((2, 2)))\n",
    "    classifier.add(BatchNormalization())\n",
    "    \n",
    "    classifier.add(Conv2D(32, (3, 3), activation = 'relu', kernel_regularizer = l1l2, padding = 'valid'))\n",
    "    classifier.add(MaxPooling2D((2, 2)))\n",
    "    classifier.add(BatchNormalization())\n",
    "    \n",
    "    classifier.add(Conv2D(16, (3, 3), activation = 'relu', kernel_regularizer = l1l2, padding = 'valid'))\n",
    "    classifier.add(MaxPooling2D((2, 2)))\n",
    "    classifier.add(BatchNormalization())\n",
    "    \n",
    "    classifier.add(Flatten())\n",
    "    classifier.add(Dense(units = 128, activation = 'relu'))\n",
    "    classifier.add(Dropout(0.4))\n",
    "    classifier.add(Dense(units = 1, activation = 'sigmoid'))\n",
    "    classifier.summary()\n",
    "    return classifier"
   ]
  },
  {
   "cell_type": "code",
   "execution_count": null,
   "metadata": {
    "execution": {
     "iopub.execute_input": "2023-06-06T17:05:46.929281Z",
     "iopub.status.busy": "2023-06-06T17:05:46.9288Z",
     "iopub.status.idle": "2023-06-06T17:05:50.470566Z",
     "shell.execute_reply": "2023-06-06T17:05:50.469371Z",
     "shell.execute_reply.started": "2023-06-06T17:05:46.929193Z"
    }
   },
   "outputs": [],
   "source": [
    "classifier = build_cnn()\n",
    "rmsprop = RMSprop(learning_rate = 0.0001)\n",
    "classifier.compile(optimizer = rmsprop, loss = 'binary_crossentropy', metrics = ['binary_accuracy'])"
   ]
  },
  {
   "cell_type": "markdown",
   "metadata": {},
   "source": [
    "<div style=\"background-color: #D1E6F9; padding: 20px;\">\n",
    "    <p style=\"color: #0056b3;\"> Setting GPU to train the model </p>"
   ]
  },
  {
   "cell_type": "code",
   "execution_count": null,
   "metadata": {
    "execution": {
     "iopub.execute_input": "2023-06-06T17:05:50.473393Z",
     "iopub.status.busy": "2023-06-06T17:05:50.472599Z",
     "iopub.status.idle": "2023-06-06T17:05:50.484366Z",
     "shell.execute_reply": "2023-06-06T17:05:50.483189Z",
     "shell.execute_reply.started": "2023-06-06T17:05:50.473351Z"
    }
   },
   "outputs": [],
   "source": [
    "tf.test.is_gpu_available()"
   ]
  },
  {
   "cell_type": "markdown",
   "metadata": {},
   "source": [
    "<div style=\"background-color: #D1E6F9; padding: 20px;\">\n",
    "    <h3 style=\"color: #0056b3;\"> Training the model  </h3>"
   ]
  },
  {
   "cell_type": "code",
   "execution_count": null,
   "metadata": {
    "execution": {
     "iopub.execute_input": "2023-06-06T17:05:50.486858Z",
     "iopub.status.busy": "2023-06-06T17:05:50.485965Z",
     "iopub.status.idle": "2023-06-06T17:05:50.497335Z",
     "shell.execute_reply": "2023-06-06T17:05:50.496114Z",
     "shell.execute_reply.started": "2023-06-06T17:05:50.48682Z"
    }
   },
   "outputs": [],
   "source": [
    "earlystopping = EarlyStopping(monitor = 'val_loss', patience = 4, restore_best_weights = True)\n",
    "lr_reduc = ReduceLROnPlateau(\n",
    "    monitor='val_loss',\n",
    "    factor = 0.2,                                     \n",
    "    patience = 2,                                   \n",
    "    min_delt = 1e-7,                                \n",
    "    cooldown = 0,                               \n",
    "    verbose = 1) "
   ]
  },
  {
   "cell_type": "code",
   "execution_count": null,
   "metadata": {
    "execution": {
     "iopub.execute_input": "2023-06-06T17:05:50.5002Z",
     "iopub.status.busy": "2023-06-06T17:05:50.499056Z",
     "iopub.status.idle": "2023-06-06T17:18:06.42489Z",
     "shell.execute_reply": "2023-06-06T17:18:06.423536Z",
     "shell.execute_reply.started": "2023-06-06T17:05:50.500163Z"
    }
   },
   "outputs": [],
   "source": [
    "history = classifier.fit(train_set,\n",
    "                         validation_data = val_set,\n",
    "                         verbose = 1, epochs = 15,\n",
    "                         callbacks = [earlystopping, lr_reduc], \n",
    "                         batch_size = 32,\n",
    "                         steps_per_epoch = len(x_train)/32,\n",
    "                         validation_steps = len(x_val)/32)"
   ]
  },
  {
   "cell_type": "markdown",
   "metadata": {},
   "source": [
    "<div style=\"background-color: #D1E6F9; padding: 20px;\">\n",
    "    <h2 style=\"color: #0056b3;\">Model evaluation 🔎 </h2>"
   ]
  },
  {
   "cell_type": "code",
   "execution_count": null,
   "metadata": {
    "execution": {
     "iopub.execute_input": "2023-06-06T17:18:06.427967Z",
     "iopub.status.busy": "2023-06-06T17:18:06.426791Z",
     "iopub.status.idle": "2023-06-06T17:18:13.907524Z",
     "shell.execute_reply": "2023-06-06T17:18:13.90615Z",
     "shell.execute_reply.started": "2023-06-06T17:18:06.427909Z"
    }
   },
   "outputs": [],
   "source": [
    "plt.plot(history.history['loss'], label='Training loss')\n",
    "plt.plot(history.history['val_loss'], label='Validation loss')\n",
    "plt.xlabel('Epoch')\n",
    "plt.ylabel('Loss')\n",
    "plt.legend()\n",
    "plt.show()"
   ]
  },
  {
   "cell_type": "code",
   "execution_count": null,
   "metadata": {
    "execution": {
     "iopub.execute_input": "2023-06-06T17:18:13.914705Z",
     "iopub.status.busy": "2023-06-06T17:18:13.914255Z",
     "iopub.status.idle": "2023-06-06T17:18:14.249206Z",
     "shell.execute_reply": "2023-06-06T17:18:14.248063Z",
     "shell.execute_reply.started": "2023-06-06T17:18:13.914671Z"
    }
   },
   "outputs": [],
   "source": [
    "plt.plot(history.history['binary_accuracy'], label='Training accuracy')\n",
    "plt.plot(history.history['val_binary_accuracy'], label='Validation accuracy')\n",
    "plt.xlabel('Epoch')\n",
    "plt.ylabel('Accuracy')\n",
    "plt.legend()\n",
    "plt.ylim([0.3, 1])\n",
    "plt.show()"
   ]
  },
  {
   "cell_type": "code",
   "execution_count": null,
   "metadata": {
    "execution": {
     "iopub.execute_input": "2023-06-06T17:18:14.252437Z",
     "iopub.status.busy": "2023-06-06T17:18:14.251024Z",
     "iopub.status.idle": "2023-06-06T17:18:15.733323Z",
     "shell.execute_reply": "2023-06-06T17:18:15.732158Z",
     "shell.execute_reply.started": "2023-06-06T17:18:14.252389Z"
    }
   },
   "outputs": [],
   "source": [
    "test_loss, test_accuracy = classifier.evaluate(test_set)"
   ]
  },
  {
   "cell_type": "code",
   "execution_count": null,
   "metadata": {
    "execution": {
     "iopub.execute_input": "2023-06-06T17:22:39.596995Z",
     "iopub.status.busy": "2023-06-06T17:22:39.596568Z",
     "iopub.status.idle": "2023-06-06T17:22:40.514547Z",
     "shell.execute_reply": "2023-06-06T17:22:40.513116Z",
     "shell.execute_reply.started": "2023-06-06T17:22:39.596961Z"
    }
   },
   "outputs": [],
   "source": [
    "y_pred = classifier.predict(test_set)\n",
    "y_pred = (y_pred > 0.5)"
   ]
  },
  {
   "cell_type": "code",
   "execution_count": null,
   "metadata": {
    "execution": {
     "iopub.execute_input": "2023-06-06T17:22:42.074817Z",
     "iopub.status.busy": "2023-06-06T17:22:42.074337Z",
     "iopub.status.idle": "2023-06-06T17:22:42.580634Z",
     "shell.execute_reply": "2023-06-06T17:22:42.579368Z",
     "shell.execute_reply.started": "2023-06-06T17:22:42.07478Z"
    }
   },
   "outputs": [],
   "source": [
    "cm = confusion_matrix(y_test, y_pred)\n",
    "\n",
    "plt.imshow(cm, interpolation='nearest', cmap=plt.cm.Blues)\n",
    "plt.colorbar()\n",
    "plt.xlabel(\"Previsão\")\n",
    "plt.ylabel(\"Valor Real\")\n",
    "plt.xticks([0, 1])\n",
    "plt.yticks([0, 1])\n",
    "plt.show()"
   ]
  },
  {
   "cell_type": "code",
   "execution_count": null,
   "metadata": {
    "execution": {
     "iopub.execute_input": "2023-06-06T17:24:27.35477Z",
     "iopub.status.busy": "2023-06-06T17:24:27.354362Z",
     "iopub.status.idle": "2023-06-06T17:24:27.374003Z",
     "shell.execute_reply": "2023-06-06T17:24:27.372617Z",
     "shell.execute_reply.started": "2023-06-06T17:24:27.354739Z"
    }
   },
   "outputs": [],
   "source": [
    "print(classification_report(y_test, y_pred))"
   ]
  }
 ],
 "metadata": {
  "kaggle": {
   "accelerator": "gpu",
   "dataSources": [
    {
     "datasetId": 17810,
     "sourceId": 23812,
     "sourceType": "datasetVersion"
    }
   ],
   "dockerImageVersionId": 30497,
   "isGpuEnabled": true,
   "isInternetEnabled": false,
   "language": "python",
   "sourceType": "notebook"
  },
  "kernelspec": {
   "display_name": "Python 3 (ipykernel)",
   "language": "python",
   "name": "python3"
  },
  "language_info": {
   "codemirror_mode": {
    "name": "ipython",
    "version": 3
   },
   "file_extension": ".py",
   "mimetype": "text/x-python",
   "name": "python",
   "nbconvert_exporter": "python",
   "pygments_lexer": "ipython3",
   "version": "3.11.5"
  }
 },
 "nbformat": 4,
 "nbformat_minor": 4
}
